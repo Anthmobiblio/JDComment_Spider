{
 "cells": [
  {
   "cell_type": "code",
   "execution_count": null,
   "metadata": {},
   "outputs": [],
   "source": [
    "from fake_useragent import UserAgent\n",
    "from bs4 import BeautifulSoup\n",
    "import time\n",
    "import numpy as np\n",
    "import requests\n",
    "import json\n",
    "\n",
    "ua=UserAgent()\n",
    "headers = {\n",
    "            \"User-Agent\": \"Mozilla/5.0 (Windows NT 10.0; Win64; x64) AppleWebKit/537.36 (KHTML, like Gecko) Chrome/61.0.3163.79 Safari/537.36\",\n",
    "            \"Referer\": \"https://www.lagou.com/jobs/list_python\",\n",
    "            \"Cookie\": \"_ga=GA1.2.2032920817.1520234065; _gid=GA1.2.2007661123.1520234065; user_trace_token=20180305151430-d90e083a-2044-11e8-9cf0-525400f775ce; LGUID=20180305151430-d90e0bf2-2044-11e8-9cf0-525400f775ce; showExpriedIndex=1; showExpriedCompanyHome=1; showExpriedMyPublish=1; hasDeliver=0; index_location_city=%E5%8C%97%E4%BA%AC; JSESSIONID=ABAAABAACBHABBIECE1AB2B1B3ED00095A40CC2532D48F6; hideSliderBanner20180305WithTopBannerC=1; Hm_lvt_4233e74dff0ae5bd0a3d81c6ccf756e6=1520234067,1520237823,1520298106; LGSID=20180306090145-f0f266a0-20d9-11e8-b126-5254005c3644; _putrc=6F0BC7CDE26E29D5; login=true; unick=%E5%AD%99%E5%85%B0%E6%98%8C; gate_login_token=d3d779887321e8280503a885cdda9b6badc9944fb3549bb7; Hm_lpvt_4233e74dff0ae5bd0a3d81c6ccf756e6=1520299986; _gat=1; LGRID=20180306093308-530763f4-20de-11e8-9d87-525400f775ce; TG-TRACK-CODE=index_search; SEARCH_ID=f130bb4a5c0140d7928602bd7d6d5054\"\n",
    "        }\n",
    "url = \"https://rate.tmall.com/list_detail_rate.htm?itemId=558760911386&spuId=877095771&sellerId=2616970884&order=3&currentPage=1&append=0&content=1&tagId=&posi=&picture=0&groupId=&ua=098%23E1hvh9vnvpQvUvCkvvvvvjiPRLzWsjtbn2FpAjivPmPpzjimn2FvgjrUPFqOtjn8RphvCvvvphmCvpvWzPsocT5Nznswcoa43QhvCvmvphvPvpvhvv2MMQhCvvOvChCvvvmtvpvIvvCvpvvvvvvvvhXVvvmvAQvvByOvvUhQvvCVB9vv9BQvvhXVvvmCj8yCvv9vvhhIA2%2BtZgyCvvOCvhE2zW9EvpCW9jCxxB0UHdpLh09CdPpBR3VZJQ0HABvz5FUSLn7l%2BFwTdoD6q8ZsH2JZRl4gQfutnCB1pGsWVCuZHk62Qa7tnCpXwZ5w1E94eErABsyCvvpvvhCviQhvCvvvpZptvpvhvvCvpUhCvms9MniN6aMwznAakHIu6kOU4Ik1Qz%2BfivDi4dMWgFrivI8mkgl39o8mp98PFp%3D%3D&itemPropertyId=&itemPropertyIndex=&userPropertyId=&userPropertyIndex=&rateQuery=&location=&needFold=0&_ksTS=1551335588108_2327&callback=jsonp2328\"\n",
    "#headers={\"User-Agent\":ua.random}\n",
    "response = requests.get(url=url)\n",
    "jsonData = response.text\n",
    "startLoc = jsonData.find('{')\n",
    "jsonData = jsonData[startLoc:-1]\n",
    "jsonData = json.loads(jsonData)\n",
    "print(jsonData)"
   ]
  },
  {
   "cell_type": "code",
   "execution_count": null,
   "metadata": {},
   "outputs": [],
   "source": [
    "from selenium import webdriver\n",
    "from selenium.webdriver.support import expected_conditions as EC\n",
    "from selenium.webdriver.common.by import By\n",
    "from selenium.webdriver.support.ui import WebDriverWait\n",
    "from selenium.common.exceptions import TimeoutException\n",
    "import time\n",
    "from fake_useragent import UserAgent\n",
    "from bs4 import BeautifulSoup\n",
    "import time\n",
    "import numpy as np\n",
    "import requests\n",
    "import json\n",
    "\n",
    "init_url = \"https://www.taobao.com/\"\n",
    "login_url = \"https://auth.alipay.com/login/index.htm?loginScene=7&goto=https%3A%2F%2Fauth.alipay.com%2Flogin%2Ftaobao_trust_login.htm%3Ftarget%3Dhttps%253A%252F%252Flogin.taobao.com%252Fmember%252Falipay_sign_dispatcher.jhtml%253Ftg%253Dhttps%25253A%25252F%25252Fwww.taobao.com%25252F&params=VFBMX3JlZGlyZWN0X3VybD1odHRwcyUzQSUyRiUyRnd3dy50YW9iYW8uY29tJTJG\"\n",
    "path = \"C:/Program Files (x86)/Google/Chrome/Application/chromedriver.exe\"\n",
    "driver = webdriver.Chrome(executable_path=path)\n",
    "wait = WebDriverWait(driver,5)\n",
    "driver.get(login_url)\n",
    "# 登录网站\n",
    "def login(key,pw):\n",
    "    print(u\"等待验证码，自行输入...\")\n",
    "    #登录手动输入验证码，并登录系统\n",
    "    while True:\n",
    "        #判断当前的url是否已经进入系统\n",
    "        if login_url == driver.current_url:\n",
    "            time.sleep(1)\n",
    "        else:\n",
    "            cookie = driver.get_cookies()\n",
    "            print(cookie)\n",
    "            jsonCookies = json.dumps(cookie)\n",
    "            with open('qqhomepage.json', 'w') as f:\n",
    "                f.write(jsonCookies)\n",
    "            break\n",
    "            \n",
    "def getPageComment():\n",
    "    url = \"https://rate.tmall.com/list_detail_rate.htm?itemId=558760911386&spuId=877095771&sellerId=2616970884&order=3&currentPage=1&append=0&content=1&tagId=&posi=&picture=0&groupId=&ua=098%23E1hvh9vnvpQvUvCkvvvvvjiPRLzWsjtbn2FpAjivPmPpzjimn2FvgjrUPFqOtjn8RphvCvvvphmCvpvWzPsocT5Nznswcoa43QhvCvmvphvPvpvhvv2MMQhCvvOvChCvvvmtvpvIvvCvpvvvvvvvvhXVvvmvAQvvByOvvUhQvvCVB9vv9BQvvhXVvvmCj8yCvv9vvhhIA2%2BtZgyCvvOCvhE2zW9EvpCW9jCxxB0UHdpLh09CdPpBR3VZJQ0HABvz5FUSLn7l%2BFwTdoD6q8ZsH2JZRl4gQfutnCB1pGsWVCuZHk62Qa7tnCpXwZ5w1E94eErABsyCvvpvvhCviQhvCvvvpZptvpvhvvCvpUhCvms9MniN6aMwznAakHIu6kOU4Ik1Qz%2BfivDi4dMWgFrivI8mkgl39o8mp98PFp%3D%3D&itemPropertyId=&itemPropertyIndex=&userPropertyId=&userPropertyIndex=&rateQuery=&location=&needFold=0&_ksTS=1551335588108_2327&callback=jsonp2328\"\n",
    "    #headers={\"User-Agent\":ua.random}\n",
    "    response = requests.get(url=url)\n",
    "    jsonData = response.text\n",
    "    startLoc = jsonData.find('{')\n",
    "    jsonData = jsonData[startLoc:-1]\n",
    "    jsonData = json.loads(jsonData)\n",
    "    print(jsonData)\n",
    "#     for i in range(0, jsonData['rateDetail']['paginator']['lastPage']):\n",
    "#         url = \"https://rate.tmall.com/list_detail_rate.htm?itemId=558760911386&spuId=877095771&sellerId=2616970884&order=3&currentPage=%s&append=0&content=1&tagId=&posi=&picture=0&groupId=&ua=098%23E1hvh9vnvpQvUvCkvvvvvjiPRLzWsjtbn2FpAjivPmPpzjimn2FvgjrUPFqOtjn8RphvCvvvphmCvpvWzPsocT5Nznswcoa43QhvCvmvphvPvpvhvv2MMQhCvvOvChCvvvmtvpvIvvCvpvvvvvvvvhXVvvmvAQvvByOvvUhQvvCVB9vv9BQvvhXVvvmCj8yCvv9vvhhIA2%2BtZgyCvvOCvhE2zW9EvpCW9jCxxB0UHdpLh09CdPpBR3VZJQ0HABvz5FUSLn7l%2BFwTdoD6q8ZsH2JZRl4gQfutnCB1pGsWVCuZHk62Qa7tnCpXwZ5w1E94eErABsyCvvpvvhCviQhvCvvvpZptvpvhvvCvpUhCvms9MniN6aMwznAakHIu6kOU4Ik1Qz%2BfivDi4dMWgFrivI8mkgl39o8mp98PFp%3D%3D&itemPropertyId=&itemPropertyIndex=&userPropertyId=&userPropertyIndex=&rateQuery=&location=&needFold=0&_ksTS=1551335588108_2327&callback=jsonp2328\"%i\n",
    "#         print(url)\n",
    "#         response = requests.get(url=url)\n",
    "#         jsonData = response.text\n",
    "#         startLoc = jsonData.find('{')\n",
    "#         jsonData = jsonData[startLoc:-1]\n",
    "#         jsonData = json.loads(jsonData)\n",
    "#         for i in range(0, 20):\n",
    "#             print(jsonData['rateDetail']['rateList'][i][rateContent])\n",
    "login(key, pw)\n",
    "getPageComment()"
   ]
  },
  {
   "cell_type": "code",
   "execution_count": null,
   "metadata": {},
   "outputs": [],
   "source": [
    "from selenium import webdriver\n",
    "from selenium.webdriver.support import expected_conditions as EC\n",
    "from selenium.webdriver.common.by import By\n",
    "from selenium.webdriver.support.ui import WebDriverWait\n",
    "from selenium.common.exceptions import TimeoutException\n",
    "import time\n",
    "from fake_useragent import UserAgent\n",
    "from bs4 import BeautifulSoup\n",
    "import time\n",
    "import numpy as np\n",
    "import requests\n",
    "import json\n",
    "\n",
    "init_url = \"https://www.taobao.com/\"\n",
    "login_url = \"https://auth.alipay.com/login/index.htm?loginScene=7&goto=https%3A%2F%2Fauth.alipay.com%2Flogin%2Ftaobao_trust_login.htm%3Ftarget%3Dhttps%253A%252F%252Flogin.taobao.com%252Fmember%252Falipay_sign_dispatcher.jhtml%253Ftg%253Dhttps%25253A%25252F%25252Fwww.taobao.com%25252F&params=VFBMX3JlZGlyZWN0X3VybD1odHRwcyUzQSUyRiUyRnd3dy50YW9iYW8uY29tJTJG\"\n",
    "path = \"C:/Program Files (x86)/Google/Chrome/Application/chromedriver.exe\"\n",
    "driver = webdriver.Chrome(executable_path=path)\n",
    "wait = WebDriverWait(driver,5)\n",
    "driver.get(login_url)\n",
    "cookie = \"\"\n",
    "# 登录网站\n",
    "def login():\n",
    "    print(u\"等待验证码，自行输入...\")\n",
    "    #登录手动输入验证码，并登录系统\n",
    "    while True:\n",
    "        #判断当前的url是否已经进入系统\n",
    "        if login_url == driver.current_url:\n",
    "            time.sleep(1)\n",
    "        else:\n",
    "            cookie = driver.get_cookies()\n",
    "            print(cookie)\n",
    "            jsonCookies = json.dumps(cookie)\n",
    "            with open('qqhomepage.json', 'w') as f:\n",
    "                f.write(jsonCookies)\n",
    "            break\n",
    "login()"
   ]
  },
  {
   "cell_type": "code",
   "execution_count": 2,
   "metadata": {},
   "outputs": [
    {
     "name": "stdout",
     "output_type": "stream",
     "text": [
      "_tb_token_=3e7efbeb1e8ad; t=0dbf76407186ab737e313f70ae4ed053; sg=%E8%82%9650; cookie2=18792fa1313a2e8e9da9a075e887d603; _l_g_=Ug%3D%3D; v=0; unb=3012596555; skt=861d93ec3557f5b0; cookie1=V3kSHV5lJtPWVK2ZGMLLXQOPcmpNsemCvJVXUTGSva4%3D; csg=64955d8b; uc3=vt3=F8dByEzX2It8GEyk%2B8c%3D&id2=UNDVcDrzGd1Mag%3D%3D&nk2=qh7Tuq8EKUklQT%2Bu&lg2=URm48syIIVrSKA%3D%3D; existShop=MTU1MTQwNTMxOQ%3D%3D; tracknick=%5Cu795E%5Cu52C7%5Cu5341%5Cu4E8C%5Cu751F%5Cu8096; lgc=%5Cu795E%5Cu52C7%5Cu5341%5Cu4E8C%5Cu751F%5Cu8096; _cc_=V32FPkk%2Fhw%3D%3D; mt=np=; dnk=%5Cu795E%5Cu52C7%5Cu5341%5Cu4E8C%5Cu751F%5Cu8096; _nk_=%5Cu795E%5Cu52C7%5Cu5341%5Cu4E8C%5Cu751F%5Cu8096; cookie17=UNDVcDrzGd1Mag%3D%3D; tg=0; thw=cn; uc1=cookie14=UoTZ5be0m7O2uw%3D%3D&lng=zh_CN&cookie16=V32FPkk%2FxXMk5UvIbNtImtMfJQ%3D%3D&existShop=false&cookie21=V32FPkk%2FgPzW&cookie15=URm48syIIVrSKA%3D%3D&pas=0; isg=BJ6eIzqJTrG1lZrV6ZFiHkZb7zTqVR9U7s7XL0gnCuHcaz5FsO-y6cSJZ3bn01rx\n"
     ]
    }
   ],
   "source": [
    "\n",
    "import json\n",
    " \n",
    "str=''\n",
    "with open('qqhomepage.json','r',encoding='utf-8') as f:\n",
    "    listCookies=json.loads(f.read())\n",
    "cookie = [item[\"name\"] + \"=\" + item[\"value\"] for item in listCookies]\n",
    "cookiestr = '; '.join(item for item in cookie)\n",
    "print(cookiestr)\n"
   ]
  },
  {
   "cell_type": "code",
   "execution_count": 4,
   "metadata": {},
   "outputs": [
    {
     "name": "stdout",
     "output_type": "stream",
     "text": [
      "\r\n",
      "\r\n",
      "jsonp2328({\"rgv587_flag\": \"sm\", \"url\": \"//rate.tmall.com:443/list_detail_rate.htm/_____tmd_____/punish?x5secdata=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&x5step=2\"})\n"
     ]
    }
   ],
   "source": [
    "import requests\n",
    " \n",
    "url='https://rate.tmall.com/list_detail_rate.htm?itemId=558760911386&spuId=877095771&sellerId=2616970884&order=3&currentPage=1&append=0&content=1&tagId=&posi=&picture=0&groupId=&ua=098%23E1hvh9vnvpQvUvCkvvvvvjiPRLzWsjtbn2FpAjivPmPpzjimn2FvgjrUPFqOtjn8RphvCvvvphmCvpvWzPsocT5Nznswcoa43QhvCvmvphvPvpvhvv2MMQhCvvOvChCvvvmtvpvIvvCvpvvvvvvvvhXVvvmvAQvvByOvvUhQvvCVB9vv9BQvvhXVvvmCj8yCvv9vvhhIA2%2BtZgyCvvOCvhE2zW9EvpCW9jCxxB0UHdpLh09CdPpBR3VZJQ0HABvz5FUSLn7l%2BFwTdoD6q8ZsH2JZRl4gQfutnCB1pGsWVCuZHk62Qa7tnCpXwZ5w1E94eErABsyCvvpvvhCviQhvCvvvpZptvpvhvvCvpUhCvms9MniN6aMwznAakHIu6kOU4Ik1Qz%2BfivDi4dMWgFrivI8mkgl39o8mp98PFp%3D%3D&itemPropertyId=&itemPropertyIndex=&userPropertyId=&userPropertyIndex=&rateQuery=&location=&needFold=0&_ksTS=1551335588108_2327&callback=jsonp2328'\n",
    " \n",
    "headers={\n",
    "    'cookie':cookiestr,\n",
    "    'user-agent':'Mozilla/5.0 (Windows NT 10.0; Win64; x64) AppleWebKit/537.36 (KHTML, like Gecko) Chrome/66.0.3359.181 Safari/537.36'\n",
    "}\n",
    " \n",
    "html=requests.get(url=url,headers=headers)\n",
    "\n",
    "print(html.text)"
   ]
  }
 ],
 "metadata": {
  "anaconda-cloud": {},
  "kernelspec": {
   "display_name": "Python [conda root]",
   "language": "python",
   "name": "conda-root-py"
  },
  "language_info": {
   "codemirror_mode": {
    "name": "ipython",
    "version": 3
   },
   "file_extension": ".py",
   "mimetype": "text/x-python",
   "name": "python",
   "nbconvert_exporter": "python",
   "pygments_lexer": "ipython3",
   "version": "3.5.2"
  }
 },
 "nbformat": 4,
 "nbformat_minor": 2
}
