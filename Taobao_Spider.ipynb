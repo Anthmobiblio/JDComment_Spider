{
 "cells": [
  {
   "cell_type": "code",
   "execution_count": 22,
   "metadata": {},
   "outputs": [
    {
     "name": "stdout",
     "output_type": "stream",
     "text": [
      "\r\n",
      "\r\n",
      "jsonp2328({\"rgv587_flag\":\"sm\",\"url\":\"https://login.taobao.com/member/login.jhtml?style=mini&from=sm&full_redirect=false&redirectURL=https%3a%2f%2frate.tmall.com:443/list_detail_rate.htm/_____tmd_____/punish%3fx5secdata=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%26x5step=100\"})\n"
     ]
    }
   ],
   "source": [
    "from fake_useragent import UserAgent\n",
    "from bs4 import BeautifulSoup\n",
    "import time\n",
    "import numpy as np\n",
    "import requests\n",
    "import json\n",
    "\n",
    "ua=UserAgent()\n",
    "url = \"https://rate.tmall.com/list_detail_rate.htm?itemId=558760911386&spuId=877095771&sellerId=2616970884&order=3&currentPage=1&append=0&content=1&tagId=&posi=&picture=0&groupId=&ua=098%23E1hvh9vnvpQvUvCkvvvvvjiPRLzWsjtbn2FpAjivPmPpzjimn2FvgjrUPFqOtjn8RphvCvvvphmCvpvWzPsocT5Nznswcoa43QhvCvmvphvPvpvhvv2MMQhCvvOvChCvvvmtvpvIvvCvpvvvvvvvvhXVvvmvAQvvByOvvUhQvvCVB9vv9BQvvhXVvvmCj8yCvv9vvhhIA2%2BtZgyCvvOCvhE2zW9EvpCW9jCxxB0UHdpLh09CdPpBR3VZJQ0HABvz5FUSLn7l%2BFwTdoD6q8ZsH2JZRl4gQfutnCB1pGsWVCuZHk62Qa7tnCpXwZ5w1E94eErABsyCvvpvvhCviQhvCvvvpZptvpvhvvCvpUhCvms9MniN6aMwznAakHIu6kOU4Ik1Qz%2BfivDi4dMWgFrivI8mkgl39o8mp98PFp%3D%3D&itemPropertyId=&itemPropertyIndex=&userPropertyId=&userPropertyIndex=&rateQuery=&location=&needFold=0&_ksTS=1551335588108_2327&callback=jsonp2328\"\n",
    "#headers={\"User-Agent\":ua.random}\n",
    "response = requests.get(url=url)\n",
    "jsonData = response.text\n",
    "# startLoc = jsonData.find('{')\n",
    "# jsonData = jsonData[startLoc:-1]\n",
    "# jsonData = json.loads(jsonData)\n",
    "print(jsonData)"
   ]
  },
  {
   "cell_type": "code",
   "execution_count": 23,
   "metadata": {},
   "outputs": [],
   "source": [
    "from selenium import webdriver\n",
    "\n",
    "path = \"C:/Program Files (x86)/Google/Chrome/Application/chromedriver.exe\"\n",
    "driver = webdriver.Chrome(executable_path=path)\n",
    "driver.get('https://music.163.com/#/search/m/?s={0}'.format(self.music_name))\n"
   ]
  }
 ],
 "metadata": {
  "anaconda-cloud": {},
  "kernelspec": {
   "display_name": "Python [conda root]",
   "language": "python",
   "name": "conda-root-py"
  },
  "language_info": {
   "codemirror_mode": {
    "name": "ipython",
    "version": 3
   },
   "file_extension": ".py",
   "mimetype": "text/x-python",
   "name": "python",
   "nbconvert_exporter": "python",
   "pygments_lexer": "ipython3",
   "version": "3.5.2"
  }
 },
 "nbformat": 4,
 "nbformat_minor": 2
}
